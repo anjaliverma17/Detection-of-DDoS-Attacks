{
 "cells": [
  {
   "cell_type": "code",
   "execution_count": 2,
   "metadata": {},
   "outputs": [
    {
     "name": "stdout",
     "output_type": "stream",
     "text": [
      "Warning: xgboost.XGBClassifier is not available and will not be used by TPOT.\n"
     ]
    },
    {
     "data": {
      "application/vnd.jupyter.widget-view+json": {
       "model_id": "",
       "version_major": 2,
       "version_minor": 0
      },
      "text/plain": [
       "HBox(children=(FloatProgress(value=0.0, description='Optimization Progress', max=450.0, style=ProgressStyle(de…"
      ]
     },
     "metadata": {},
     "output_type": "display_data"
    },
    {
     "name": "stdout",
     "output_type": "stream",
     "text": [
      "\n",
      "Generation 1 - Current best internal CV score: 0.9866430164968243\n",
      "Generation 2 - Current best internal CV score: 0.9866430164968243\n",
      "Generation 3 - Current best internal CV score: 0.9866638433736517\n",
      "Generation 4 - Current best internal CV score: 0.9866638433736517\n",
      "Generation 5 - Current best internal CV score: 0.9866644218982404\n",
      "Best pipeline: DecisionTreeClassifier(MaxAbsScaler(input_matrix), criterion=entropy, max_depth=8, min_samples_leaf=7, min_samples_split=15)\n",
      "0.9865481540448102\n"
     ]
    }
   ],
   "source": [
    "from tpot import TPOTClassifier\n",
    "import pandas as pd\n",
    "ufo = pd.read_csv('finaldataset.csv')\n",
    "ufo.drop(['FLAGS','NODE_NAME_FROM','NODE_NAME_TO'], axis=1, inplace=True)\n",
    "from sklearn.model_selection import train_test_split \n",
    "X = ufo.iloc[:, :-1].values \n",
    "y = ufo.iloc[:, -1].values\n",
    "\n",
    "X_train, X_test, y_train, y_test = train_test_split(X, y, test_size = 0.2, random_state = 0)\n",
    "from sklearn.preprocessing import StandardScaler \n",
    "sc = StandardScaler() \n",
    "X_train = sc.fit_transform(X_train) \n",
    "X_test = sc.transform(X_test)\n",
    "\n",
    "from sklearn.decomposition import PCA \n",
    "pca = PCA(n_components = 16) \n",
    "X_train = pca.fit_transform(X_train) \n",
    "X_test = pca.transform(X_test) \n",
    "  \n",
    "explained_variance = pca.explained_variance_ratio_ \n",
    "\n",
    "tpot = TPOTClassifier(generations=5, population_size=75, verbosity=2,crossover_rate=0.01, random_state=0)\n",
    "tpot.fit(X_train, y_train)\n",
    "print(tpot.score(X_test, y_test))\n",
    "tpot.export('tpot_seventyfive_pipeline.ipynb')"
   ]
  }
 ],
 "metadata": {
  "kernelspec": {
   "display_name": "Python 3",
   "language": "python",
   "name": "python3"
  },
  "language_info": {
   "codemirror_mode": {
    "name": "ipython",
    "version": 3
   },
   "file_extension": ".py",
   "mimetype": "text/x-python",
   "name": "python",
   "nbconvert_exporter": "python",
   "pygments_lexer": "ipython3",
   "version": "3.6.5"
  }
 },
 "nbformat": 4,
 "nbformat_minor": 4
}
